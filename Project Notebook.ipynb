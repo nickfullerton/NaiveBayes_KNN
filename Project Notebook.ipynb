{
 "cells": [
  {
   "cell_type": "markdown",
   "id": "257004b4",
   "metadata": {},
   "source": [
    "# Naive Bayes/KNN Project\n",
    "\n",
    "### By Nicholas Fullerton"
   ]
  },
  {
   "cell_type": "markdown",
   "id": "a4014932",
   "metadata": {},
   "source": [
    "## Introduction\n",
    "\n",
    "This Project will take a dive into Naive Bayes algorithm with K Fold Cross Validation and KNN with K Fold Cross Validation.\n"
   ]
  },
  {
   "cell_type": "markdown",
   "id": "77eed724",
   "metadata": {},
   "source": [
    "## Goal\n",
    "\n",
    "The goal of this project is to evaluate four models, and find the best model that will best classify our data.\n",
    "\n",
    "The Models\n",
    "\n",
    "1. Naive Bayes Classifier where we bin the continous data in our features and run CategoricalNB \n",
    "1. Naive Bayes Classifier using only the categorical features and running BernoulliNB \n",
    "1. Naive Bayes Classifier using only the continuous data and running GaussianNB \n",
    "1. KNN Model "
   ]
  },
  {
   "cell_type": "markdown",
   "id": "162660c9",
   "metadata": {},
   "source": [
    "## Import Data\n",
    "\n",
    "Now lets import our data and our necessary libraries and take at our data"
   ]
  },
  {
   "cell_type": "code",
   "execution_count": 1,
   "id": "44771c0d",
   "metadata": {},
   "outputs": [],
   "source": [
    "import pandas as pd\n",
    "import matplotlib.pyplot as plt\n",
    "import numpy as np\n",
    "from sklearn.preprocessing import OrdinalEncoder \n",
    "from sklearn.preprocessing import LabelEncoder\n",
    "from sklearn.naive_bayes import GaussianNB, CategoricalNB, BernoulliNB\n",
    "from sklearn.metrics import accuracy_score\n",
    "from sklearn.neighbors import KNeighborsRegressor\n",
    "from sklearn.metrics import mean_squared_error"
   ]
  },
  {
   "cell_type": "code",
   "execution_count": 2,
   "id": "ba740b2e",
   "metadata": {},
   "outputs": [
    {
     "data": {
      "text/html": [
       "<div>\n",
       "<style scoped>\n",
       "    .dataframe tbody tr th:only-of-type {\n",
       "        vertical-align: middle;\n",
       "    }\n",
       "\n",
       "    .dataframe tbody tr th {\n",
       "        vertical-align: top;\n",
       "    }\n",
       "\n",
       "    .dataframe thead th {\n",
       "        text-align: right;\n",
       "    }\n",
       "</style>\n",
       "<table border=\"1\" class=\"dataframe\">\n",
       "  <thead>\n",
       "    <tr style=\"text-align: right;\">\n",
       "      <th></th>\n",
       "      <th>long_hair</th>\n",
       "      <th>forehead_width_cm</th>\n",
       "      <th>forehead_height_cm</th>\n",
       "      <th>nose_wide</th>\n",
       "      <th>nose_long</th>\n",
       "      <th>lips_thin</th>\n",
       "      <th>distance_nose_to_lip_long</th>\n",
       "      <th>gender</th>\n",
       "    </tr>\n",
       "  </thead>\n",
       "  <tbody>\n",
       "    <tr>\n",
       "      <th>0</th>\n",
       "      <td>1</td>\n",
       "      <td>11.8</td>\n",
       "      <td>6.1</td>\n",
       "      <td>1</td>\n",
       "      <td>0</td>\n",
       "      <td>1</td>\n",
       "      <td>1</td>\n",
       "      <td>Male</td>\n",
       "    </tr>\n",
       "    <tr>\n",
       "      <th>1</th>\n",
       "      <td>0</td>\n",
       "      <td>14.0</td>\n",
       "      <td>5.4</td>\n",
       "      <td>0</td>\n",
       "      <td>0</td>\n",
       "      <td>1</td>\n",
       "      <td>0</td>\n",
       "      <td>Female</td>\n",
       "    </tr>\n",
       "    <tr>\n",
       "      <th>2</th>\n",
       "      <td>0</td>\n",
       "      <td>11.8</td>\n",
       "      <td>6.3</td>\n",
       "      <td>1</td>\n",
       "      <td>1</td>\n",
       "      <td>1</td>\n",
       "      <td>1</td>\n",
       "      <td>Male</td>\n",
       "    </tr>\n",
       "    <tr>\n",
       "      <th>3</th>\n",
       "      <td>0</td>\n",
       "      <td>14.4</td>\n",
       "      <td>6.1</td>\n",
       "      <td>0</td>\n",
       "      <td>1</td>\n",
       "      <td>1</td>\n",
       "      <td>1</td>\n",
       "      <td>Male</td>\n",
       "    </tr>\n",
       "    <tr>\n",
       "      <th>4</th>\n",
       "      <td>1</td>\n",
       "      <td>13.5</td>\n",
       "      <td>5.9</td>\n",
       "      <td>0</td>\n",
       "      <td>0</td>\n",
       "      <td>0</td>\n",
       "      <td>0</td>\n",
       "      <td>Female</td>\n",
       "    </tr>\n",
       "  </tbody>\n",
       "</table>\n",
       "</div>"
      ],
      "text/plain": [
       "   long_hair  forehead_width_cm  forehead_height_cm  nose_wide  nose_long  \\\n",
       "0          1               11.8                 6.1          1          0   \n",
       "1          0               14.0                 5.4          0          0   \n",
       "2          0               11.8                 6.3          1          1   \n",
       "3          0               14.4                 6.1          0          1   \n",
       "4          1               13.5                 5.9          0          0   \n",
       "\n",
       "   lips_thin  distance_nose_to_lip_long  gender  \n",
       "0          1                          1    Male  \n",
       "1          1                          0  Female  \n",
       "2          1                          1    Male  \n",
       "3          1                          1    Male  \n",
       "4          0                          0  Female  "
      ]
     },
     "execution_count": 2,
     "metadata": {},
     "output_type": "execute_result"
    }
   ],
   "source": [
    "df = pd.read_csv('gender_classification_v7.csv')\n",
    "df.head()"
   ]
  },
  {
   "cell_type": "code",
   "execution_count": 3,
   "id": "a1ec277f",
   "metadata": {},
   "outputs": [
    {
     "data": {
      "text/plain": [
       "(5001, 8)"
      ]
     },
     "execution_count": 3,
     "metadata": {},
     "output_type": "execute_result"
    }
   ],
   "source": [
    "df.shape"
   ]
  },
  {
   "cell_type": "markdown",
   "id": "5ea65197",
   "metadata": {},
   "source": [
    "## The Data\n",
    "\n",
    "Each row of our data contains 7 feature columns about a persons face. These columns are shown above as whether the person has long hair, their forehead width and height in cm, if they have a wide nose, if they have a long nose, if their lips are thin, and if the distnance between their nose and lip is long. So we will consider these columns are features.\n",
    "\n",
    "Finally our label is whether this person, given the features, is male or female.\n",
    "\n",
    "To create a model that does this, we will need a classification algorithm, which KNN and Naive Bayes will do just fine."
   ]
  },
  {
   "cell_type": "markdown",
   "id": "9d6d59e5",
   "metadata": {},
   "source": [
    "## Clean The Data\n",
    "\n",
    "We will clean the data by first transforming our label column so that Male = 1 and Female = 0.\n",
    "Then we will clean by eliminating any rows with NA in them."
   ]
  },
  {
   "cell_type": "code",
   "execution_count": 4,
   "id": "b1110e3b",
   "metadata": {},
   "outputs": [
    {
     "data": {
      "text/html": [
       "<div>\n",
       "<style scoped>\n",
       "    .dataframe tbody tr th:only-of-type {\n",
       "        vertical-align: middle;\n",
       "    }\n",
       "\n",
       "    .dataframe tbody tr th {\n",
       "        vertical-align: top;\n",
       "    }\n",
       "\n",
       "    .dataframe thead th {\n",
       "        text-align: right;\n",
       "    }\n",
       "</style>\n",
       "<table border=\"1\" class=\"dataframe\">\n",
       "  <thead>\n",
       "    <tr style=\"text-align: right;\">\n",
       "      <th></th>\n",
       "      <th>long_hair</th>\n",
       "      <th>forehead_width_cm</th>\n",
       "      <th>forehead_height_cm</th>\n",
       "      <th>nose_wide</th>\n",
       "      <th>nose_long</th>\n",
       "      <th>lips_thin</th>\n",
       "      <th>distance_nose_to_lip_long</th>\n",
       "      <th>gender</th>\n",
       "    </tr>\n",
       "  </thead>\n",
       "  <tbody>\n",
       "    <tr>\n",
       "      <th>0</th>\n",
       "      <td>1</td>\n",
       "      <td>11.8</td>\n",
       "      <td>6.1</td>\n",
       "      <td>1</td>\n",
       "      <td>0</td>\n",
       "      <td>1</td>\n",
       "      <td>1</td>\n",
       "      <td>1</td>\n",
       "    </tr>\n",
       "    <tr>\n",
       "      <th>1</th>\n",
       "      <td>0</td>\n",
       "      <td>14.0</td>\n",
       "      <td>5.4</td>\n",
       "      <td>0</td>\n",
       "      <td>0</td>\n",
       "      <td>1</td>\n",
       "      <td>0</td>\n",
       "      <td>0</td>\n",
       "    </tr>\n",
       "    <tr>\n",
       "      <th>2</th>\n",
       "      <td>0</td>\n",
       "      <td>11.8</td>\n",
       "      <td>6.3</td>\n",
       "      <td>1</td>\n",
       "      <td>1</td>\n",
       "      <td>1</td>\n",
       "      <td>1</td>\n",
       "      <td>1</td>\n",
       "    </tr>\n",
       "    <tr>\n",
       "      <th>3</th>\n",
       "      <td>0</td>\n",
       "      <td>14.4</td>\n",
       "      <td>6.1</td>\n",
       "      <td>0</td>\n",
       "      <td>1</td>\n",
       "      <td>1</td>\n",
       "      <td>1</td>\n",
       "      <td>1</td>\n",
       "    </tr>\n",
       "    <tr>\n",
       "      <th>4</th>\n",
       "      <td>1</td>\n",
       "      <td>13.5</td>\n",
       "      <td>5.9</td>\n",
       "      <td>0</td>\n",
       "      <td>0</td>\n",
       "      <td>0</td>\n",
       "      <td>0</td>\n",
       "      <td>0</td>\n",
       "    </tr>\n",
       "  </tbody>\n",
       "</table>\n",
       "</div>"
      ],
      "text/plain": [
       "   long_hair  forehead_width_cm  forehead_height_cm  nose_wide  nose_long  \\\n",
       "0          1               11.8                 6.1          1          0   \n",
       "1          0               14.0                 5.4          0          0   \n",
       "2          0               11.8                 6.3          1          1   \n",
       "3          0               14.4                 6.1          0          1   \n",
       "4          1               13.5                 5.9          0          0   \n",
       "\n",
       "   lips_thin  distance_nose_to_lip_long  gender  \n",
       "0          1                          1       1  \n",
       "1          1                          0       0  \n",
       "2          1                          1       1  \n",
       "3          1                          1       1  \n",
       "4          0                          0       0  "
      ]
     },
     "execution_count": 4,
     "metadata": {},
     "output_type": "execute_result"
    }
   ],
   "source": [
    "le = LabelEncoder()\n",
    "df['gender'] = le.fit_transform(df['gender'])\n",
    "df.head()"
   ]
  },
  {
   "cell_type": "code",
   "execution_count": 5,
   "id": "f53921bc",
   "metadata": {},
   "outputs": [
    {
     "data": {
      "text/plain": [
       "long_hair                    0\n",
       "forehead_width_cm            0\n",
       "forehead_height_cm           0\n",
       "nose_wide                    0\n",
       "nose_long                    0\n",
       "lips_thin                    0\n",
       "distance_nose_to_lip_long    0\n",
       "gender                       0\n",
       "dtype: int64"
      ]
     },
     "execution_count": 5,
     "metadata": {},
     "output_type": "execute_result"
    }
   ],
   "source": [
    "df.isnull().sum()"
   ]
  },
  {
   "cell_type": "markdown",
   "id": "edf73a42",
   "metadata": {},
   "source": [
    "## Data Visualization\n",
    "\n",
    "We will now show our data plotted with each plot representing a feature vs label."
   ]
  },
  {
   "cell_type": "markdown",
   "id": "51d63612",
   "metadata": {},
   "source": [
    "### Long Hair per Gender"
   ]
  },
  {
   "cell_type": "code",
   "execution_count": 6,
   "id": "b9941017",
   "metadata": {
    "scrolled": true
   },
   "outputs": [
    {
     "data": {
      "image/png": "[encoded data removed]",
      "text/plain": [
       "<Figure size 432x288 with 1 Axes>"
      ]
     },
     "metadata": {
      "needs_background": "light"
     },
     "output_type": "display_data"
    }
   ],
   "source": [
    "hair_df = df.value_counts(['long_hair', 'gender']).reset_index()\n",
    "X_axis = np.arange(2)\n",
    "\n",
    "plt.bar(X_axis - 0.2, [hair_df.iloc[0,-1], hair_df.iloc[3,-1]], 0.4, label = \"Female\")\n",
    "plt.bar(X_axis + 0.2, [hair_df.iloc[1,-1], hair_df.iloc[2,-1]], 0.4, label = \"Male\")\n",
    "plt.xticks(X_axis, ['Long Hair', 'No Long Hair'])\n",
    "plt.legend()\n",
    "plt.show()\n"
   ]
  },
  {
   "cell_type": "markdown",
   "id": "aa51a809",
   "metadata": {},
   "source": [
    "### Nose is Wide per Gender"
   ]
  },
  {
   "cell_type": "code",
   "execution_count": 7,
   "id": "cf3403a1",
   "metadata": {},
   "outputs": [
    {
     "data": {
      "image/png": "[encoded data removed]",
      "text/plain": [
       "<Figure size 432x288 with 1 Axes>"
      ]
     },
     "metadata": {
      "needs_background": "light"
     },
     "output_type": "display_data"
    }
   ],
   "source": [
    "nose_wide_df = df.value_counts(['nose_wide', 'gender']).reset_index()\n",
    "plt.bar(X_axis - 0.2, [nose_wide_df.iloc[3,-1], nose_wide_df.iloc[0,-1]], 0.4, label = \"Female\")\n",
    "plt.bar(X_axis + 0.2, [nose_wide_df.iloc[1,-1], nose_wide_df.iloc[2,-1]], 0.4, label = \"Male\")\n",
    "plt.xticks(X_axis, ['Nose Wide', 'No Nose Wide'])\n",
    "plt.legend()\n",
    "plt.show()"
   ]
  },
  {
   "cell_type": "markdown",
   "id": "b25ab835",
   "metadata": {},
   "source": [
    "### Nose is Long per Gender"
   ]
  },
  {
   "cell_type": "code",
   "execution_count": 8,
   "id": "686938f0",
   "metadata": {},
   "outputs": [
    {
     "data": {
      "image/png": "[encoded data removed]",
      "text/plain": [
       "<Figure size 432x288 with 1 Axes>"
      ]
     },
     "metadata": {
      "needs_background": "light"
     },
     "output_type": "display_data"
    }
   ],
   "source": [
    "nose_long_df = df.value_counts(['nose_long', 'gender']).reset_index()\n",
    "plt.bar(X_axis - 0.2, [nose_long_df.iloc[2,-1], nose_long_df.iloc[1,-1]], 0.4, label = \"Female\")\n",
    "plt.bar(X_axis + 0.2, [nose_long_df.iloc[0,-1], nose_long_df.iloc[3,-1]], 0.4, label = \"Male\")\n",
    "plt.xticks(X_axis, ['Nose Long', 'No Nose Long'])\n",
    "plt.legend()\n",
    "plt.show()"
   ]
  },
  {
   "cell_type": "markdown",
   "id": "a5097498",
   "metadata": {},
   "source": [
    "### Lips are Thin per Gender"
   ]
  },
  {
   "cell_type": "code",
   "execution_count": 9,
   "id": "f8b90d63",
   "metadata": {},
   "outputs": [
    {
     "data": {
      "image/png": "[encoded data removed]",
      "text/plain": [
       "<Figure size 432x288 with 1 Axes>"
      ]
     },
     "metadata": {
      "needs_background": "light"
     },
     "output_type": "display_data"
    }
   ],
   "source": [
    "lips_thin_df = df.value_counts(['lips_thin', 'gender']).reset_index()\n",
    "plt.bar(X_axis - 0.2, [lips_thin_df.iloc[3,-1], lips_thin_df.iloc[0,-1]], 0.4, label = \"Female\")\n",
    "plt.bar(X_axis + 0.2, [lips_thin_df.iloc[1,-1], lips_thin_df.iloc[2,-1]], 0.4, label = \"Male\")\n",
    "plt.xticks(X_axis, ['Lips Thin', 'No Lips Thin'])\n",
    "plt.legend()\n",
    "plt.show()"
   ]
  },
  {
   "cell_type": "markdown",
   "id": "8b6d9865",
   "metadata": {},
   "source": [
    "### If Distance from Nose to Lip is Long per Gender"
   ]
  },
  {
   "cell_type": "code",
   "execution_count": 10,
   "id": "b5e4c6a1",
   "metadata": {},
   "outputs": [
    {
     "name": "stdout",
     "output_type": "stream",
     "text": [
      "   distance_nose_to_lip_long  gender     0\n",
      "0                          0       0  2197\n",
      "1                          1       1  2191\n",
      "2                          0       1   309\n",
      "3                          1       0   304\n"
     ]
    },
    {
     "data": {
      "image/png": "[encoded data removed]",
      "text/plain": [
       "<Figure size 432x288 with 1 Axes>"
      ]
     },
     "metadata": {
      "needs_background": "light"
     },
     "output_type": "display_data"
    }
   ],
   "source": [
    "distance_nose_lip_df = df.value_counts(['distance_nose_to_lip_long', 'gender']).reset_index()\n",
    "print(distance_nose_lip_df)\n",
    "plt.bar(X_axis - 0.2, [distance_nose_lip_df.iloc[3,-1], distance_nose_lip_df.iloc[0,-1]], 0.4, label = \"Female\")\n",
    "plt.bar(X_axis + 0.2, [distance_nose_lip_df.iloc[1,-1], distance_nose_lip_df.iloc[2,-1]], 0.4, label = \"Male\")\n",
    "plt.xticks(X_axis, ['Nose to Lip Distance Long', 'No Nose to Lip Distance Long'])\n",
    "plt.legend()\n",
    "plt.show()"
   ]
  },
  {
   "cell_type": "markdown",
   "id": "72837ac2",
   "metadata": {},
   "source": [
    "### Forehead Width per Gender"
   ]
  },
  {
   "cell_type": "code",
   "execution_count": 11,
   "id": "13e2cdce",
   "metadata": {
    "scrolled": true
   },
   "outputs": [
    {
     "data": {
      "image/png": "[encoded data removed]",
      "text/plain": [
       "<Figure size 432x288 with 1 Axes>"
      ]
     },
     "metadata": {
      "needs_background": "light"
     },
     "output_type": "display_data"
    }
   ],
   "source": [
    "plt.plot(df['gender'], df['forehead_width_cm'], 'x', color='red')\n",
    "plt.xticks(X_axis, ['Female', 'Male'])\n",
    "plt.xlabel('Gender')\n",
    "plt.ylabel('Forehead Width (cm)')\n",
    "plt.show()"
   ]
  },
  {
   "cell_type": "markdown",
   "id": "0ef9cc93",
   "metadata": {},
   "source": [
    "### Forehead Height per Gender"
   ]
  },
  {
   "cell_type": "code",
   "execution_count": 12,
   "id": "067c05ef",
   "metadata": {},
   "outputs": [
    {
     "data": {
      "image/png": "[encoded data removed]",
      "text/plain": [
       "<Figure size 432x288 with 1 Axes>"
      ]
     },
     "metadata": {
      "needs_background": "light"
     },
     "output_type": "display_data"
    }
   ],
   "source": [
    "plt.plot(df['gender'], df['forehead_height_cm'], 'x', color='blue')\n",
    "plt.xticks(X_axis, ['Female', 'Male'])\n",
    "plt.xlabel('Gender')\n",
    "plt.ylabel('Forehead Height (cm)')\n",
    "plt.show()"
   ]
  },
  {
   "cell_type": "markdown",
   "id": "e4a64a89",
   "metadata": {},
   "source": [
    "## Naive Bayes\n",
    "\n",
    "Our data looks good to begin our first algorithm which is Naive Bayes. \n",
    "\n",
    "We will define a function that using K Fold Validation with Naive Bayes Classifier.\n",
    "We also will take in account the type of naive bayes classifier."
   ]
  },
  {
   "cell_type": "code",
   "execution_count": 13,
   "id": "e2903575",
   "metadata": {},
   "outputs": [],
   "source": [
    "def K_fold_nb(data, k_folds, nb_type):\n",
    "    data_random = data.sample(frac=1, random_state=1234)\n",
    "    subset = int(len(data_random)/k_folds)\n",
    "    total_accuracy = []\n",
    "    for i in range(k_folds):\n",
    "        \n",
    "        test_range = list(range(i*subset,(i*subset)+subset))\n",
    "        test_train_index = data_random.index.isin(test_range)\n",
    "        \n",
    "        test = data_random[test_train_index]\n",
    "        train = data_random[~test_train_index]\n",
    "        \n",
    "        test_x = test.iloc[:,:-1]\n",
    "        test_y = test['gender']\n",
    "        \n",
    "        train_x = train.iloc[:,:-1]\n",
    "        train_y = train['gender']\n",
    "        \n",
    "        if nb_type == \"Cat\":\n",
    "            model = CategoricalNB()\n",
    "        elif nb_type == \"Bern\":\n",
    "            model = BernoulliNB()\n",
    "        elif nb_type == \"Gauss\":\n",
    "            model = GaussianNB()\n",
    "        model.fit(train_x,train_y)\n",
    "        \n",
    "        yhat = model.predict(test_x)\n",
    "        \n",
    "        \n",
    "        accuracy = accuracy_score(yhat, test_y)\n",
    "        \n",
    "        total_accuracy.append(accuracy)\n",
    "        \n",
    "    \n",
    "    average = sum(total_accuracy)/len(total_accuracy)\n",
    "    \n",
    "    \n",
    "    print(f\"Average Accuracy Score for {k_folds} K Folds is {round(average*100,2)}%\")\n",
    "    \n",
    "    return average\n",
    "        "
   ]
  },
  {
   "cell_type": "markdown",
   "id": "67dbe8a0",
   "metadata": {},
   "source": [
    "### First Naive Bayes Approach\n",
    "\n",
    "For this first approach to Naive Bayes, we will be binning the continuous data and running sklearn CategoricalNB() for our model"
   ]
  },
  {
   "cell_type": "code",
   "execution_count": 14,
   "id": "36cec76f",
   "metadata": {},
   "outputs": [
    {
     "data": {
      "text/html": [
       "<div>\n",
       "<style scoped>\n",
       "    .dataframe tbody tr th:only-of-type {\n",
       "        vertical-align: middle;\n",
       "    }\n",
       "\n",
       "    .dataframe tbody tr th {\n",
       "        vertical-align: top;\n",
       "    }\n",
       "\n",
       "    .dataframe thead th {\n",
       "        text-align: right;\n",
       "    }\n",
       "</style>\n",
       "<table border=\"1\" class=\"dataframe\">\n",
       "  <thead>\n",
       "    <tr style=\"text-align: right;\">\n",
       "      <th></th>\n",
       "      <th>long_hair</th>\n",
       "      <th>forehead_width_cm</th>\n",
       "      <th>forehead_height_cm</th>\n",
       "      <th>nose_wide</th>\n",
       "      <th>nose_long</th>\n",
       "      <th>lips_thin</th>\n",
       "      <th>distance_nose_to_lip_long</th>\n",
       "      <th>gender</th>\n",
       "    </tr>\n",
       "  </thead>\n",
       "  <tbody>\n",
       "    <tr>\n",
       "      <th>0</th>\n",
       "      <td>1.0</td>\n",
       "      <td>4.0</td>\n",
       "      <td>10.0</td>\n",
       "      <td>1.0</td>\n",
       "      <td>0.0</td>\n",
       "      <td>1.0</td>\n",
       "      <td>1.0</td>\n",
       "      <td>1</td>\n",
       "    </tr>\n",
       "    <tr>\n",
       "      <th>1</th>\n",
       "      <td>0.0</td>\n",
       "      <td>26.0</td>\n",
       "      <td>3.0</td>\n",
       "      <td>0.0</td>\n",
       "      <td>0.0</td>\n",
       "      <td>1.0</td>\n",
       "      <td>0.0</td>\n",
       "      <td>0</td>\n",
       "    </tr>\n",
       "    <tr>\n",
       "      <th>2</th>\n",
       "      <td>0.0</td>\n",
       "      <td>4.0</td>\n",
       "      <td>12.0</td>\n",
       "      <td>1.0</td>\n",
       "      <td>1.0</td>\n",
       "      <td>1.0</td>\n",
       "      <td>1.0</td>\n",
       "      <td>1</td>\n",
       "    </tr>\n",
       "    <tr>\n",
       "      <th>3</th>\n",
       "      <td>0.0</td>\n",
       "      <td>30.0</td>\n",
       "      <td>10.0</td>\n",
       "      <td>0.0</td>\n",
       "      <td>1.0</td>\n",
       "      <td>1.0</td>\n",
       "      <td>1.0</td>\n",
       "      <td>1</td>\n",
       "    </tr>\n",
       "    <tr>\n",
       "      <th>4</th>\n",
       "      <td>1.0</td>\n",
       "      <td>21.0</td>\n",
       "      <td>8.0</td>\n",
       "      <td>0.0</td>\n",
       "      <td>0.0</td>\n",
       "      <td>0.0</td>\n",
       "      <td>0.0</td>\n",
       "      <td>0</td>\n",
       "    </tr>\n",
       "  </tbody>\n",
       "</table>\n",
       "</div>"
      ],
      "text/plain": [
       "   long_hair  forehead_width_cm  forehead_height_cm  nose_wide  nose_long  \\\n",
       "0        1.0                4.0                10.0        1.0        0.0   \n",
       "1        0.0               26.0                 3.0        0.0        0.0   \n",
       "2        0.0                4.0                12.0        1.0        1.0   \n",
       "3        0.0               30.0                10.0        0.0        1.0   \n",
       "4        1.0               21.0                 8.0        0.0        0.0   \n",
       "\n",
       "   lips_thin  distance_nose_to_lip_long  gender  \n",
       "0        1.0                        1.0       1  \n",
       "1        1.0                        0.0       0  \n",
       "2        1.0                        1.0       1  \n",
       "3        1.0                        1.0       1  \n",
       "4        0.0                        0.0       0  "
      ]
     },
     "execution_count": 14,
     "metadata": {},
     "output_type": "execute_result"
    }
   ],
   "source": [
    "enc = OrdinalEncoder()\n",
    "\n",
    "df1 = df.copy()\n",
    "df1.iloc[:,:-1] = enc.fit_transform(df1.iloc[:,:-1])\n",
    "df1.head()"
   ]
  },
  {
   "cell_type": "code",
   "execution_count": 15,
   "id": "e6dbdb6f",
   "metadata": {},
   "outputs": [
    {
     "name": "stdout",
     "output_type": "stream",
     "text": [
      "Average Accuracy Score for 5 K Folds is 96.94%\n",
      "Average Accuracy Score for 10 K Folds is 96.96%\n",
      "Average Accuracy Score for 20 K Folds is 97.06%\n",
      "Average Accuracy Score for 50 K Folds is 96.98%\n",
      "Average Accuracy Score for 100 K Folds is 97.0%\n",
      "\n",
      "Total Accuracy Score of this model is 96.99%\n"
     ]
    }
   ],
   "source": [
    "avg_1 = K_fold_nb(df, 5, \"Cat\")\n",
    "avg_2 = K_fold_nb(df, 10, \"Cat\")\n",
    "avg_3 = K_fold_nb(df, 20, \"Cat\")\n",
    "avg_4 = K_fold_nb(df, 50, \"Cat\")\n",
    "avg_5 = K_fold_nb(df, 100, \"Cat\")\n",
    "print()\n",
    "print(f\"Total Accuracy Score of this model is {round((avg_1+avg_2+avg_3+avg_4+avg_5)/5, 4) * 100}%\")"
   ]
  },
  {
   "cell_type": "markdown",
   "id": "50a91933",
   "metadata": {},
   "source": [
    "### Second Naive Bayes Approach\n",
    "\n",
    "For this first approach to Naive Bayes, we will be using just the categorial data and running sklearn BernoulliNB() for our model\n"
   ]
  },
  {
   "cell_type": "code",
   "execution_count": 16,
   "id": "b0007490",
   "metadata": {},
   "outputs": [
    {
     "data": {
      "text/html": [
       "<div>\n",
       "<style scoped>\n",
       "    .dataframe tbody tr th:only-of-type {\n",
       "        vertical-align: middle;\n",
       "    }\n",
       "\n",
       "    .dataframe tbody tr th {\n",
       "        vertical-align: top;\n",
       "    }\n",
       "\n",
       "    .dataframe thead th {\n",
       "        text-align: right;\n",
       "    }\n",
       "</style>\n",
       "<table border=\"1\" class=\"dataframe\">\n",
       "  <thead>\n",
       "    <tr style=\"text-align: right;\">\n",
       "      <th></th>\n",
       "      <th>long_hair</th>\n",
       "      <th>nose_wide</th>\n",
       "      <th>nose_long</th>\n",
       "      <th>lips_thin</th>\n",
       "      <th>distance_nose_to_lip_long</th>\n",
       "      <th>gender</th>\n",
       "    </tr>\n",
       "  </thead>\n",
       "  <tbody>\n",
       "    <tr>\n",
       "      <th>0</th>\n",
       "      <td>1</td>\n",
       "      <td>1</td>\n",
       "      <td>0</td>\n",
       "      <td>1</td>\n",
       "      <td>1</td>\n",
       "      <td>1</td>\n",
       "    </tr>\n",
       "    <tr>\n",
       "      <th>1</th>\n",
       "      <td>0</td>\n",
       "      <td>0</td>\n",
       "      <td>0</td>\n",
       "      <td>1</td>\n",
       "      <td>0</td>\n",
       "      <td>0</td>\n",
       "    </tr>\n",
       "    <tr>\n",
       "      <th>2</th>\n",
       "      <td>0</td>\n",
       "      <td>1</td>\n",
       "      <td>1</td>\n",
       "      <td>1</td>\n",
       "      <td>1</td>\n",
       "      <td>1</td>\n",
       "    </tr>\n",
       "    <tr>\n",
       "      <th>3</th>\n",
       "      <td>0</td>\n",
       "      <td>0</td>\n",
       "      <td>1</td>\n",
       "      <td>1</td>\n",
       "      <td>1</td>\n",
       "      <td>1</td>\n",
       "    </tr>\n",
       "    <tr>\n",
       "      <th>4</th>\n",
       "      <td>1</td>\n",
       "      <td>0</td>\n",
       "      <td>0</td>\n",
       "      <td>0</td>\n",
       "      <td>0</td>\n",
       "      <td>0</td>\n",
       "    </tr>\n",
       "  </tbody>\n",
       "</table>\n",
       "</div>"
      ],
      "text/plain": [
       "   long_hair  nose_wide  nose_long  lips_thin  distance_nose_to_lip_long  \\\n",
       "0          1          1          0          1                          1   \n",
       "1          0          0          0          1                          0   \n",
       "2          0          1          1          1                          1   \n",
       "3          0          0          1          1                          1   \n",
       "4          1          0          0          0                          0   \n",
       "\n",
       "   gender  \n",
       "0       1  \n",
       "1       0  \n",
       "2       1  \n",
       "3       1  \n",
       "4       0  "
      ]
     },
     "execution_count": 16,
     "metadata": {},
     "output_type": "execute_result"
    }
   ],
   "source": [
    "df2 = df.copy()\n",
    "df2 = df2.drop(df2.columns[[1,2]], axis=1)\n",
    "df2.head()"
   ]
  },
  {
   "cell_type": "code",
   "execution_count": 17,
   "id": "d0605057",
   "metadata": {},
   "outputs": [
    {
     "name": "stdout",
     "output_type": "stream",
     "text": [
      "Average Accuracy Score for 5 K Folds is 95.74%\n",
      "Average Accuracy Score for 10 K Folds is 95.8%\n",
      "Average Accuracy Score for 20 K Folds is 95.78%\n",
      "Average Accuracy Score for 50 K Folds is 95.76%\n",
      "Average Accuracy Score for 100 K Folds is 95.72%\n",
      "\n",
      "Total Accuracy Score of this model is 95.76%\n"
     ]
    }
   ],
   "source": [
    "avg_1 = K_fold_nb(df2, 5, \"Bern\")\n",
    "avg_2 = K_fold_nb(df2, 10, \"Bern\")\n",
    "avg_3 = K_fold_nb(df2, 20, \"Bern\")\n",
    "avg_4 = K_fold_nb(df2, 50, \"Bern\")\n",
    "avg_5 = K_fold_nb(df2, 100, \"Bern\")\n",
    "\n",
    "print()\n",
    "print(f\"Total Accuracy Score of this model is {round((avg_1+avg_2+avg_3+avg_4+avg_5)/5, 4) * 100}%\")"
   ]
  },
  {
   "cell_type": "markdown",
   "id": "e1aa81b5",
   "metadata": {},
   "source": [
    "### Third Naive Bayes Approach\n",
    "\n",
    "For this third approach to Naive Bayes, we will be using just the continuous data and running sklearn GaussianNB() for our model"
   ]
  },
  {
   "cell_type": "code",
   "execution_count": 18,
   "id": "6a609079",
   "metadata": {},
   "outputs": [
    {
     "data": {
      "text/html": [
       "<div>\n",
       "<style scoped>\n",
       "    .dataframe tbody tr th:only-of-type {\n",
       "        vertical-align: middle;\n",
       "    }\n",
       "\n",
       "    .dataframe tbody tr th {\n",
       "        vertical-align: top;\n",
       "    }\n",
       "\n",
       "    .dataframe thead th {\n",
       "        text-align: right;\n",
       "    }\n",
       "</style>\n",
       "<table border=\"1\" class=\"dataframe\">\n",
       "  <thead>\n",
       "    <tr style=\"text-align: right;\">\n",
       "      <th></th>\n",
       "      <th>forehead_width_cm</th>\n",
       "      <th>forehead_height_cm</th>\n",
       "      <th>gender</th>\n",
       "    </tr>\n",
       "  </thead>\n",
       "  <tbody>\n",
       "    <tr>\n",
       "      <th>0</th>\n",
       "      <td>11.8</td>\n",
       "      <td>6.1</td>\n",
       "      <td>1</td>\n",
       "    </tr>\n",
       "    <tr>\n",
       "      <th>1</th>\n",
       "      <td>14.0</td>\n",
       "      <td>5.4</td>\n",
       "      <td>0</td>\n",
       "    </tr>\n",
       "    <tr>\n",
       "      <th>2</th>\n",
       "      <td>11.8</td>\n",
       "      <td>6.3</td>\n",
       "      <td>1</td>\n",
       "    </tr>\n",
       "    <tr>\n",
       "      <th>3</th>\n",
       "      <td>14.4</td>\n",
       "      <td>6.1</td>\n",
       "      <td>1</td>\n",
       "    </tr>\n",
       "    <tr>\n",
       "      <th>4</th>\n",
       "      <td>13.5</td>\n",
       "      <td>5.9</td>\n",
       "      <td>0</td>\n",
       "    </tr>\n",
       "  </tbody>\n",
       "</table>\n",
       "</div>"
      ],
      "text/plain": [
       "   forehead_width_cm  forehead_height_cm  gender\n",
       "0               11.8                 6.1       1\n",
       "1               14.0                 5.4       0\n",
       "2               11.8                 6.3       1\n",
       "3               14.4                 6.1       1\n",
       "4               13.5                 5.9       0"
      ]
     },
     "execution_count": 18,
     "metadata": {},
     "output_type": "execute_result"
    }
   ],
   "source": [
    "df3 = df.copy()\n",
    "df3 = df3.drop(df3.columns[[0,3,4,5,6]], axis=1)\n",
    "df3.head()"
   ]
  },
  {
   "cell_type": "code",
   "execution_count": 19,
   "id": "f5c958be",
   "metadata": {},
   "outputs": [
    {
     "name": "stdout",
     "output_type": "stream",
     "text": [
      "Average Accuracy Score for 5 K Folds is 69.72%\n",
      "Average Accuracy Score for 10 K Folds is 69.68%\n",
      "Average Accuracy Score for 20 K Folds is 69.64%\n",
      "Average Accuracy Score for 50 K Folds is 69.58%\n",
      "Average Accuracy Score for 100 K Folds is 69.58%\n",
      "\n",
      "Total Accuracy Score of this model is 69.64%\n"
     ]
    }
   ],
   "source": [
    "avg_1 = K_fold_nb(df3, 5, \"Gauss\")\n",
    "avg_2 = K_fold_nb(df3, 10, \"Gauss\")\n",
    "avg_3 = K_fold_nb(df3, 20, \"Gauss\")\n",
    "avg_4 = K_fold_nb(df3, 50, \"Gauss\")\n",
    "avg_5 = K_fold_nb(df3, 100, \"Gauss\")\n",
    "\n",
    "print()\n",
    "print(f\"Total Accuracy Score of this model is {round((avg_1+avg_2+avg_3+avg_4+avg_5)/5, 4) * 100}%\")"
   ]
  },
  {
   "cell_type": "markdown",
   "id": "32935e7d",
   "metadata": {},
   "source": [
    "## KNN\n",
    "\n",
    "We will create a similar function to Naive bayes but for KNN.\n",
    "In this function we will iterate with an increasing k in combination of using K-Fold Validation, to find the best model accuracy. "
   ]
  },
  {
   "cell_type": "code",
   "execution_count": 20,
   "id": "4fcb7df3",
   "metadata": {},
   "outputs": [],
   "source": [
    "def K_fold_knn(data, k_folds):\n",
    "    length_data = len(data)\n",
    "    best_k = 0\n",
    "    best_score = 0\n",
    "    \n",
    "    for k in range(1,length_data+1, 10):\n",
    "        data_random = data.sample(frac=1, random_state=1234)\n",
    "        subset = int(len(data_random)/k_folds)\n",
    "        total_accuracy = []\n",
    "        for i in range(k_folds):\n",
    "\n",
    "            test_range = list(range(i*subset,(i*subset)+subset))\n",
    "            test_train_index = data_random.index.isin(test_range)\n",
    "\n",
    "            test = data_random[test_train_index]\n",
    "            train = data_random[~test_train_index]\n",
    "\n",
    "            test_x = test.iloc[:,:-1]\n",
    "            test_y = test['gender']\n",
    "\n",
    "            train_x = train.iloc[:,:-1]\n",
    "            train_y = train['gender']\n",
    "\n",
    "            \n",
    "            knn_model = KNeighborsRegressor(n_neighbors=k)\n",
    "            knn_model.fit(train_x, train_y)\n",
    "            accuracy = knn_model.score(test_x,test_y)\n",
    "\n",
    "            total_accuracy.append(accuracy)\n",
    "\n",
    "\n",
    "        average_score = sum(total_accuracy)/len(total_accuracy)\n",
    "        if average_score > best_score:\n",
    "            best_k = k\n",
    "            best_score = average_score\n",
    "        if average_score < best_score:\n",
    "            break\n",
    "        \n",
    "\n",
    "\n",
    "    print(f\"The best model using {k_folds} K Folds was when K Nearest Neighbor was {best_k} with an accuracy score of {round(best_score*100,2)}%\")\n",
    "    return best_score"
   ]
  },
  {
   "cell_type": "code",
   "execution_count": 21,
   "id": "2863b717",
   "metadata": {},
   "outputs": [
    {
     "name": "stdout",
     "output_type": "stream",
     "text": [
      "The best model using 5 K Folds was when K Nearest Neighbor was 31 with an accuracy score of 92.24%\n",
      "The best model using 10 K Folds was when K Nearest Neighbor was 31 with an accuracy score of 92.27%\n",
      "The best model using 20 K Folds was when K Nearest Neighbor was 31 with an accuracy score of 92.22%\n",
      "The best model using 50 K Folds was when K Nearest Neighbor was 31 with an accuracy score of 92.17%\n",
      "The best model using 100 K Folds was when K Nearest Neighbor was 41 with an accuracy score of 92.12%\n",
      "\n",
      "Total Accuracy Score of this model is 92.2%\n"
     ]
    }
   ],
   "source": [
    "avg_1 = K_fold_knn(df, 5)\n",
    "avg_2 = K_fold_knn(df, 10)\n",
    "avg_3 = K_fold_knn(df, 20)\n",
    "avg_4 = K_fold_knn(df, 50)\n",
    "avg_5 = K_fold_knn(df, 100)\n",
    "\n",
    "print()\n",
    "print(f\"Total Accuracy Score of this model is {round((avg_1+avg_2+avg_3+avg_4+avg_5)/5, 4) * 100}%\")"
   ]
  },
  {
   "cell_type": "markdown",
   "id": "5a660980",
   "metadata": {},
   "source": [
    "## Conclusion\n",
    "\n",
    "After running all of our models, we find our first model where we binned the continous data and ran CategoricalNB for our model produced the best model.\n",
    "\n",
    "The worst model was running just the continous data using GaussianNB."
   ]
  },
  {
   "cell_type": "markdown",
   "id": "20ba14f4",
   "metadata": {},
   "source": [
    "## Work Cited\n",
    "\n",
    "The data came from - https://www.kaggle.com/datasets/elakiricoder/gender-classification-dataset"
   ]
  },
  {
   "cell_type": "code",
   "execution_count": null,
   "id": "50fcac1b",
   "metadata": {},
   "outputs": [],
   "source": []
  }
 ],
 "metadata": {
  "kernelspec": {
   "display_name": "Python 3 (ipykernel)",
   "language": "python",
   "name": "python3"
  },
  "language_info": {
   "codemirror_mode": {
    "name": "ipython",
    "version": 3
   },
   "file_extension": ".py",
   "mimetype": "text/x-python",
   "name": "python",
   "nbconvert_exporter": "python",
   "pygments_lexer": "ipython3",
   "version": "3.8.5"
  }
 },
 "nbformat": 4,
 "nbformat_minor": 5
}
